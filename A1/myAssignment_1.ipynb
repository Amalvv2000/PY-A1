{
  "nbformat": 4,
  "nbformat_minor": 0,
  "metadata": {
    "colab": {
      "name": "myAssignment-1.ipynb",
      "provenance": [],
      "collapsed_sections": []
    },
    "kernelspec": {
      "name": "python3",
      "display_name": "Python 3"
    },
    "language_info": {
      "name": "python"
    }
  },
  "cells": [
    {
      "cell_type": "markdown",
      "metadata": {
        "id": "VTsvrjw26Vme"
      },
      "source": [
        "Assignment-1 "
      ]
    },
    {
      "cell_type": "code",
      "metadata": {
        "id": "x3VUNyAX5THc"
      },
      "source": [
        "#Day-1\n",
        "#Assignment-1\n",
        "#Date:28/06/2021\n",
        "#Amal V.V\n",
        "#amalvv2000cit@gmail.com\n"
      ],
      "execution_count": null,
      "outputs": []
    },
    {
      "cell_type": "markdown",
      "metadata": {
        "id": "6aEg4OGP7HB6"
      },
      "source": [
        "**   CALCULATOR**"
      ]
    },
    {
      "cell_type": "code",
      "metadata": {
        "colab": {
          "base_uri": "https://localhost:8080/"
        },
        "id": "epGfKioC6zFG",
        "outputId": "0234ea86-296c-4c48-bab0-8be8ca80d7af"
      },
      "source": [
        "a= int(input(\"Enter the first number :\"))\n",
        "b= int(input(\"Enter the second number :\"))\n",
        "Addition = a + b\n",
        "Subtraction = a - b\n",
        "Multiplication = a * b\n",
        "Division = a/b\n",
        "print(\"The Addition value is :\", Addition)\n",
        "print(\"The subtracted value is :\", Subtraction)\n",
        "print(\"The multipiled value is : \", Multiplication)\n",
        "print(\"The divisoned value is :\", Division)\n"
      ],
      "execution_count": null,
      "outputs": [
        {
          "output_type": "stream",
          "text": [
            "Enter the first number :15\n",
            "Enter the second number :10\n",
            "The Addition value is : 25\n",
            "The subtracted value is : 5\n",
            "The multipiled value is :  150\n",
            "The divisoned value is : 1.5\n"
          ],
          "name": "stdout"
        }
      ]
    },
    {
      "cell_type": "code",
      "metadata": {
        "id": "_T0M8VEQ6N34"
      },
      "source": [
        ""
      ],
      "execution_count": null,
      "outputs": []
    }
  ]
}